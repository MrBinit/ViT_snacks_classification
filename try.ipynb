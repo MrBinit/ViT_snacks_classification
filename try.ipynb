{
 "cells": [
  {
   "cell_type": "code",
   "execution_count": 7,
   "metadata": {},
   "outputs": [
    {
     "name": "stdout",
     "output_type": "stream",
     "text": [
      "2216\n"
     ]
    }
   ],
   "source": [
    "def function(s):\n",
    "    c = list(s)\n",
    "    sum = 0\n",
    "    for words in c:\n",
    "        if words == 'I':\n",
    "            sum += 1\n",
    "        elif words == 'V':\n",
    "            sum += 5\n",
    "        elif words == 'X':\n",
    "            sum += 10\n",
    "        elif words == 'L':\n",
    "            sum += 50\n",
    "        elif words == 'C':\n",
    "            sum += 100\n",
    "        elif words == 'D':\n",
    "            sum += 500\n",
    "        elif words == 'M':\n",
    "            sum += 1000\n",
    "        else:\n",
    "            return 0\n",
    "    return sum\n",
    "\n",
    "\n",
    "c = 'MCMXCIV'\n",
    "s = function(c)\n",
    "print(s)\n",
    "    "
   ]
  },
  {
   "cell_type": "code",
   "execution_count": 8,
   "metadata": {},
   "outputs": [
    {
     "name": "stdout",
     "output_type": "stream",
     "text": [
      "2216\n"
     ]
    }
   ],
   "source": [
    "def roman_to_integer(s):\n",
    "    c = list(s)\n",
    "    total = 0\n",
    "    for word in c:\n",
    "        if word == 'I':\n",
    "            total += 1\n",
    "        elif word == 'V':\n",
    "            total += 5\n",
    "        elif word == 'X':\n",
    "            total += 10\n",
    "        elif word == 'L':\n",
    "            total += 50\n",
    "        elif word == 'C':\n",
    "            total += 100\n",
    "        elif word == 'D':\n",
    "            total += 500\n",
    "        elif word == 'M':\n",
    "            total += 1000\n",
    "        else:\n",
    "            return 0\n",
    "    return total\n",
    "\n",
    "c = 'MCMXCIV'\n",
    "result = roman_to_integer(c)\n",
    "print(result)\n"
   ]
  },
  {
   "cell_type": "code",
   "execution_count": 9,
   "metadata": {},
   "outputs": [
    {
     "name": "stdout",
     "output_type": "stream",
     "text": [
      "1994\n"
     ]
    }
   ],
   "source": [
    "def roman_to_integer(s):\n",
    "    roman_dict = {'I': 1, 'V': 5, 'X': 10, 'L': 50, 'C': 100, 'D': 500, 'M': 1000}\n",
    "    total = 0\n",
    "    prev_value = 0\n",
    "    for char in reversed(s):\n",
    "        value = roman_dict[char]\n",
    "        if value < prev_value:\n",
    "            total -= value\n",
    "        else:\n",
    "            total += value\n",
    "        prev_value = value\n",
    "    return total\n",
    "\n",
    "c = 'MCMXCIV'\n",
    "result = roman_to_integer(c)\n",
    "print(result)  # Output: 1994\n"
   ]
  },
  {
   "cell_type": "code",
   "execution_count": 11,
   "metadata": {},
   "outputs": [
    {
     "name": "stdout",
     "output_type": "stream",
     "text": [
      "1994\n"
     ]
    }
   ],
   "source": [
    "def roman(s):\n",
    "    roman_dict = {'I' : 1, 'V' : 5, 'X' : 10, 'L': 50, 'C': 100, 'D': 500, 'M': 1000 }\n",
    "    total = 0\n",
    "    prev_value = 0 \n",
    "    for char in reversed(s):\n",
    "        value = roman_dict[char]\n",
    "        if value < prev_value:\n",
    "            total -= value\n",
    "        else:\n",
    "            total += value\n",
    "        prev_value = value\n",
    "    return total\n",
    "\n",
    "c = 'MCMXCIV'\n",
    "result = roman(c)\n",
    "print(result)  # Output: 1994\n",
    "\n"
   ]
  },
  {
   "cell_type": "code",
   "execution_count": 12,
   "metadata": {},
   "outputs": [
    {
     "name": "stdout",
     "output_type": "stream",
     "text": [
      "VHGK\n"
     ]
    }
   ],
   "source": [
    "string = 'KGHV'\n",
    "reversed_string = ''.join(reversed(string))\n",
    "print(reversed_string)  # Output: 'VHGK'\n"
   ]
  },
  {
   "cell_type": "code",
   "execution_count": 1,
   "metadata": {},
   "outputs": [],
   "source": [
    "def prefix(words):\n",
    "    if not words:\n",
    "        return \" \"\n",
    "    words.sort()\n",
    "    first_word = words[0]\n",
    "    last_word = words[-1]\n",
    "    prefix = \"\"\n",
    "    for i in range(len(first_word)):\n",
    "        if first_word[i] == last_word[i]:\n",
    "            prefix += first_word[i]\n",
    "        else:\n",
    "            break\n",
    "    return prefix\n",
    "\n"
   ]
  },
  {
   "cell_type": "code",
   "execution_count": null,
   "metadata": {},
   "outputs": [],
   "source": []
  }
 ],
 "metadata": {
  "kernelspec": {
   "display_name": "Python 3",
   "language": "python",
   "name": "python3"
  },
  "language_info": {
   "codemirror_mode": {
    "name": "ipython",
    "version": 3
   },
   "file_extension": ".py",
   "mimetype": "text/x-python",
   "name": "python",
   "nbconvert_exporter": "python",
   "pygments_lexer": "ipython3",
   "version": "3.9.6"
  }
 },
 "nbformat": 4,
 "nbformat_minor": 2
}
